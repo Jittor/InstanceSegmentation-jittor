{
 "cells": [
  {
   "cell_type": "code",
   "execution_count": 1,
   "metadata": {},
   "outputs": [],
   "source": [
    "from cluster_pose import cluster\n",
    "%matplotlib inline"
   ]
  },
  {
   "cell_type": "code",
   "execution_count": 3,
   "metadata": {},
   "outputs": [
    {
     "name": "stdout",
     "output_type": "stream",
     "text": [
      "loading annotations into memory...\n"
     ]
    },
    {
     "name": "stderr",
     "output_type": "stream",
     "text": [
      "  0%|          | 0/56599 [00:00<?, ?it/s]"
     ]
    },
    {
     "name": "stdout",
     "output_type": "stream",
     "text": [
      "Done (t=3.48s)\n",
      "creating index...\n",
      "index created!\n"
     ]
    },
    {
     "name": "stderr",
     "output_type": "stream",
     "text": [
      "100%|██████████| 56599/56599 [01:01<00:00, 921.07it/s]\n"
     ]
    },
    {
     "name": "stdout",
     "output_type": "stream",
     "text": [
      "data to be clustered: (232042, 17, 3)\n"
     ]
    },
    {
     "data": {
      "image/png": "[encoded data removed]",
      "text/plain": [
       "<Figure size 432x288 with 1 Axes>"
      ]
     },
     "metadata": {
      "needs_background": "light"
     },
     "output_type": "display_data"
    },
    {
     "data": {
      "image/png": "[encoded data removed]",
      "text/plain": [
       "<Figure size 432x288 with 1 Axes>"
      ]
     },
     "metadata": {
      "needs_background": "light"
     },
     "output_type": "display_data"
    },
    {
     "name": "stdout",
     "output_type": "stream",
     "text": [
      "cluster() done.\n"
     ]
    },
    {
     "data": {
      "text/plain": [
       "(array([[0.5       , 0.25507537, 1.3332961 , 0.5016225 , 0.27945724,\n",
       "         1.1501867 , 0.49837807, 0.27945727, 1.1501867 , 0.50633913,\n",
       "         0.29188576, 1.062223  , 0.49366152, 0.29188576, 1.062223  ,\n",
       "         0.5305429 , 0.23062557, 1.889526  , 0.46945313, 0.23062557,\n",
       "         1.889526  , 0.54733425, 0.37987825, 1.630152  , 0.45267108,\n",
       "         0.37987822, 1.630152  , 0.5358264 , 0.43009064, 1.510881  ,\n",
       "         0.46417445, 0.4300906 , 1.510881  , 0.52135867, 0.51188815,\n",
       "         1.914113  , 0.47864097, 0.51188815, 1.914113  , 0.52615595,\n",
       "         0.68717086, 1.8920435 , 0.47384372, 0.68717086, 1.8920435 ,\n",
       "         0.5235441 , 0.8727692 , 1.7318499 , 0.47645658, 0.87276924,\n",
       "         1.7318499 ],\n",
       "        [0.5       , 0.2530518 , 1.771833  , 0.52047735, 0.2444533 ,\n",
       "         1.6309524 , 0.47952464, 0.2444533 , 1.6309524 , 0.54382694,\n",
       "         0.3153666 , 1.1965296 , 0.45617405, 0.3153666 , 1.1965296 ,\n",
       "         0.61535084, 0.38901666, 1.8483154 , 0.384646  , 0.3890166 ,\n",
       "         1.8483154 , 0.6305587 , 0.6057374 , 1.449899  , 0.3694435 ,\n",
       "         0.6057374 , 1.449899  , 0.5647118 , 0.6025092 , 1.3153863 ,\n",
       "         0.43528873, 0.6025092 , 1.3153863 , 0.55484736, 0.7526005 ,\n",
       "         1.2430143 , 0.44515607, 0.75260055, 1.2430143 , 0.51469153,\n",
       "         0.61139435, 0.42504492, 0.48530835, 0.61139435, 0.42504492,\n",
       "         0.50221896, 0.53047514, 0.09033019, 0.49778092, 0.53047514,\n",
       "         0.09033019]], dtype=float32),\n",
       " array([1, 1, 1, ..., 0, 0, 0], dtype=int32))"
      ]
     },
     "execution_count": 3,
     "metadata": {},
     "output_type": "execute_result"
    }
   ],
   "source": [
    "cluster(dataset = 'coco', cat_num = 2, vis_threshold = 0.4, \n",
    "        minpoints = 8,  save_file = None, visualize=True)"
   ]
  },
  {
   "cell_type": "code",
   "execution_count": 4,
   "metadata": {},
   "outputs": [
    {
     "name": "stdout",
     "output_type": "stream",
     "text": [
      "loading annotations into memory...\n"
     ]
    },
    {
     "name": "stderr",
     "output_type": "stream",
     "text": [
      "  0%|          | 0/56599 [00:00<?, ?it/s]"
     ]
    },
    {
     "name": "stdout",
     "output_type": "stream",
     "text": [
      "Done (t=3.47s)\n",
      "creating index...\n",
      "index created!\n"
     ]
    },
    {
     "name": "stderr",
     "output_type": "stream",
     "text": [
      "100%|██████████| 56599/56599 [01:00<00:00, 932.09it/s]\n"
     ]
    },
    {
     "name": "stdout",
     "output_type": "stream",
     "text": [
      "data to be clustered: (232042, 17, 3)\n"
     ]
    },
    {
     "data": {
      "image/png": "[encoded data removed]",
      "text/plain": [
       "<Figure size 432x288 with 1 Axes>"
      ]
     },
     "metadata": {
      "needs_background": "light"
     },
     "output_type": "display_data"
    },
    {
     "data": {
      "image/png": "[encoded data removed]",
      "text/plain": [
       "<Figure size 432x288 with 1 Axes>"
      ]
     },
     "metadata": {
      "needs_background": "light"
     },
     "output_type": "display_data"
    },
    {
     "data": {
      "image/png": "[encoded data removed]",
      "text/plain": [
       "<Figure size 432x288 with 1 Axes>"
      ]
     },
     "metadata": {
      "needs_background": "light"
     },
     "output_type": "display_data"
    },
    {
     "name": "stdout",
     "output_type": "stream",
     "text": [
      "cluster() done.\n"
     ]
    },
    {
     "data": {
      "text/plain": [
       "(array([[0.49999997, 0.14743559, 1.9604067 , 0.5058377 , 0.17530145,\n",
       "         1.7092475 , 0.4941621 , 0.17530143, 1.7092475 , 0.5212896 ,\n",
       "         0.27884376, 1.1505946 , 0.4787104 , 0.27884373, 1.1505946 ,\n",
       "         0.5702254 , 0.23785739, 1.933151  , 0.4297731 , 0.23785737,\n",
       "         1.933151  , 0.59947026, 0.3869742 , 1.7167064 , 0.4005297 ,\n",
       "         0.3869742 , 1.7167064 , 0.5760545 , 0.43397716, 1.6798968 ,\n",
       "         0.42394233, 0.4339772 , 1.6798968 , 0.54749644, 0.52782863,\n",
       "         1.9189897 , 0.4525023 , 0.5278286 , 1.9189897 , 0.5556776 ,\n",
       "         0.69724154, 1.8930435 , 0.4443216 , 0.6972414 , 1.8930435 ,\n",
       "         0.5454395 , 0.8541755 , 1.6422433 , 0.45456135, 0.8541756 ,\n",
       "         1.6422433 ],\n",
       "        [0.5       , 0.4667606 , 0.1224482 , 0.49637675, 0.4757405 ,\n",
       "         0.10841089, 0.50362355, 0.4757405 , 0.10841089, 0.48010612,\n",
       "         0.31671977, 0.9086713 , 0.5198936 , 0.31671977, 0.9086713 ,\n",
       "         0.45818663, 0.2283892 , 1.8012371 , 0.54181284, 0.22838919,\n",
       "         1.8012371 , 0.4526764 , 0.38663152, 1.4589988 , 0.5473222 ,\n",
       "         0.38663152, 1.4589988 , 0.46015236, 0.44151804, 1.1815848 ,\n",
       "         0.5398488 , 0.44151804, 1.1815848 , 0.4739813 , 0.51231706,\n",
       "         1.8802903 , 0.52601826, 0.5123171 , 1.8802903 , 0.47122464,\n",
       "         0.69629824, 1.7912788 , 0.52877444, 0.6962981 , 1.7912788 ,\n",
       "         0.47658333, 0.8408071 , 1.556111  , 0.52341664, 0.8408071 ,\n",
       "         1.556111  ],\n",
       "        [0.5       , 0.25329465, 1.8236321 , 0.5214086 , 0.24521051,\n",
       "         1.665902  , 0.47859147, 0.24521051, 1.665902  , 0.54760635,\n",
       "         0.3197607 , 1.2038423 , 0.45239165, 0.3197607 , 1.2038423 ,\n",
       "         0.6248911 , 0.40623972, 1.8431692 , 0.37510997, 0.40623975,\n",
       "         1.8431692 , 0.63826925, 0.62785304, 1.421148  , 0.36173096,\n",
       "         0.6278531 , 1.421148  , 0.56678855, 0.61717796, 1.281013  ,\n",
       "         0.43321308, 0.61717796, 1.281013  , 0.5573415 , 0.76951253,\n",
       "         1.1517738 , 0.44266224, 0.76951265, 1.1517738 , 0.51056886,\n",
       "         0.5794947 , 0.25683603, 0.48943195, 0.5794947 , 0.25683603,\n",
       "         0.5013389 , 0.5222819 , 0.06688736, 0.49866107, 0.5222819 ,\n",
       "         0.06688736]], dtype=float32),\n",
       " array([2, 2, 0, ..., 1, 1, 1], dtype=int32))"
      ]
     },
     "execution_count": 4,
     "metadata": {},
     "output_type": "execute_result"
    }
   ],
   "source": [
    "cluster(dataset = 'coco', cat_num = 3, vis_threshold = 0.4, \n",
    "        minpoints = 8,  save_file = None, visualize=True)"
   ]
  },
  {
   "cell_type": "code",
   "execution_count": null,
   "metadata": {},
   "outputs": [],
   "source": []
  },
  {
   "cell_type": "code",
   "execution_count": null,
   "metadata": {},
   "outputs": [],
   "source": []
  }
 ],
 "metadata": {
  "kernelspec": {
   "display_name": "ws-rcnn",
   "language": "python",
   "name": "ws-rcnn"
  },
  "language_info": {
   "codemirror_mode": {
    "name": "ipython",
    "version": 3
   },
   "file_extension": ".py",
   "mimetype": "text/x-python",
   "name": "python",
   "nbconvert_exporter": "python",
   "pygments_lexer": "ipython3",
   "version": "3.5.3"
  }
 },
 "nbformat": 4,
 "nbformat_minor": 2
}
